{
  "cells": [
    {
      "cell_type": "markdown",
      "metadata": {
        "id": "view-in-github",
        "colab_type": "text"
      },
      "source": [
        "<a href=\"https://colab.research.google.com/github/SonolaMoyo/HamoyeSummer2022/blob/main/classification_using_tensorflow_amazon_space.ipynb\" target=\"_parent\"><img src=\"https://colab.research.google.com/assets/colab-badge.svg\" alt=\"Open In Colab\"/></a>"
      ]
    },
    {
      "cell_type": "code",
      "execution_count": null,
      "id": "d9b81e6d",
      "metadata": {
        "_cell_guid": "40ba87b9-a04f-e84d-7da3-ba672ebd7ab6",
        "execution": {
          "iopub.execute_input": "2022-09-20T00:46:13.577171Z",
          "iopub.status.busy": "2022-09-20T00:46:13.576719Z",
          "iopub.status.idle": "2022-09-20T00:46:14.876590Z",
          "shell.execute_reply": "2022-09-20T00:46:14.874936Z"
        },
        "papermill": {
          "duration": 1.313986,
          "end_time": "2022-09-20T00:46:14.880620",
          "exception": false,
          "start_time": "2022-09-20T00:46:13.566634",
          "status": "completed"
        },
        "tags": [],
        "id": "d9b81e6d",
        "outputId": "b6a005d8-f5fe-4454-ad49-5bd47836224c"
      },
      "outputs": [
        {
          "name": "stdout",
          "output_type": "stream",
          "text": [
            "Kaggle-planet-test-tif.torrent\n",
            "Kaggle-planet-train-tif.torrent\n",
            "sample_submission_v2.csv\n",
            "test_v2_file_mapping.csv\n",
            "train_v2.csv\n",
            "\n"
          ]
        }
      ],
      "source": [
        "import numpy as np\n",
        "import pandas as pd\n",
        "from subprocess import check_output\n",
        "import matplotlib.pyplot as plt\n",
        "from scipy.stats import bernoulli\n",
        "import seaborn as sns\n",
        "print(check_output([\"ls\", \"../input\"]).decode(\"utf8\"))"
      ]
    },
    {
      "cell_type": "code",
      "execution_count": null,
      "id": "9551865c",
      "metadata": {
        "_cell_guid": "da1b626d-9a8a-df6b-99df-1e3d13404c8b",
        "execution": {
          "iopub.execute_input": "2022-09-20T00:46:14.898134Z",
          "iopub.status.busy": "2022-09-20T00:46:14.897724Z",
          "iopub.status.idle": "2022-09-20T00:46:15.027519Z",
          "shell.execute_reply": "2022-09-20T00:46:15.026210Z"
        },
        "papermill": {
          "duration": 0.142524,
          "end_time": "2022-09-20T00:46:15.031376",
          "exception": false,
          "start_time": "2022-09-20T00:46:14.888852",
          "status": "completed"
        },
        "tags": [],
        "id": "9551865c",
        "outputId": "8d3ab007-adc6-4148-ad3c-cd230ecb44f9"
      },
      "outputs": [
        {
          "name": "stdout",
          "output_type": "stream",
          "text": [
            "(61191, 2)\n"
          ]
        },
        {
          "data": {
            "text/html": [
              "<div>\n",
              "<style scoped>\n",
              "    .dataframe tbody tr th:only-of-type {\n",
              "        vertical-align: middle;\n",
              "    }\n",
              "\n",
              "    .dataframe tbody tr th {\n",
              "        vertical-align: top;\n",
              "    }\n",
              "\n",
              "    .dataframe thead th {\n",
              "        text-align: right;\n",
              "    }\n",
              "</style>\n",
              "<table border=\"1\" class=\"dataframe\">\n",
              "  <thead>\n",
              "    <tr style=\"text-align: right;\">\n",
              "      <th></th>\n",
              "      <th>image_name</th>\n",
              "      <th>tags</th>\n",
              "    </tr>\n",
              "  </thead>\n",
              "  <tbody>\n",
              "    <tr>\n",
              "      <th>0</th>\n",
              "      <td>test_0</td>\n",
              "      <td>primary clear agriculture road water</td>\n",
              "    </tr>\n",
              "    <tr>\n",
              "      <th>1</th>\n",
              "      <td>test_1</td>\n",
              "      <td>primary clear agriculture road water</td>\n",
              "    </tr>\n",
              "    <tr>\n",
              "      <th>2</th>\n",
              "      <td>test_2</td>\n",
              "      <td>primary clear agriculture road water</td>\n",
              "    </tr>\n",
              "    <tr>\n",
              "      <th>3</th>\n",
              "      <td>test_3</td>\n",
              "      <td>primary clear agriculture road water</td>\n",
              "    </tr>\n",
              "    <tr>\n",
              "      <th>4</th>\n",
              "      <td>test_4</td>\n",
              "      <td>primary clear agriculture road water</td>\n",
              "    </tr>\n",
              "  </tbody>\n",
              "</table>\n",
              "</div>"
            ],
            "text/plain": [
              "  image_name                                  tags\n",
              "0     test_0  primary clear agriculture road water\n",
              "1     test_1  primary clear agriculture road water\n",
              "2     test_2  primary clear agriculture road water\n",
              "3     test_3  primary clear agriculture road water\n",
              "4     test_4  primary clear agriculture road water"
            ]
          },
          "execution_count": 2,
          "metadata": {},
          "output_type": "execute_result"
        }
      ],
      "source": [
        "sample = pd.read_csv('../input/sample_submission_v2.csv/sample_submission_v2.csv')\n",
        "print(sample.shape)\n",
        "sample.head()"
      ]
    },
    {
      "cell_type": "code",
      "execution_count": null,
      "id": "8b1ee28b",
      "metadata": {
        "_cell_guid": "0d5f749d-a073-9044-4bf9-2d6484eda412",
        "execution": {
          "iopub.execute_input": "2022-09-20T00:46:15.047984Z",
          "iopub.status.busy": "2022-09-20T00:46:15.047586Z",
          "iopub.status.idle": "2022-09-20T00:46:15.112799Z",
          "shell.execute_reply": "2022-09-20T00:46:15.111667Z"
        },
        "papermill": {
          "duration": 0.076496,
          "end_time": "2022-09-20T00:46:15.115583",
          "exception": false,
          "start_time": "2022-09-20T00:46:15.039087",
          "status": "completed"
        },
        "tags": [],
        "id": "8b1ee28b",
        "outputId": "a87c57fa-7db2-499d-fbd6-c70c324d6f90"
      },
      "outputs": [
        {
          "data": {
            "text/html": [
              "<div>\n",
              "<style scoped>\n",
              "    .dataframe tbody tr th:only-of-type {\n",
              "        vertical-align: middle;\n",
              "    }\n",
              "\n",
              "    .dataframe tbody tr th {\n",
              "        vertical-align: top;\n",
              "    }\n",
              "\n",
              "    .dataframe thead th {\n",
              "        text-align: right;\n",
              "    }\n",
              "</style>\n",
              "<table border=\"1\" class=\"dataframe\">\n",
              "  <thead>\n",
              "    <tr style=\"text-align: right;\">\n",
              "      <th></th>\n",
              "      <th>image_name</th>\n",
              "      <th>tags</th>\n",
              "    </tr>\n",
              "  </thead>\n",
              "  <tbody>\n",
              "    <tr>\n",
              "      <th>0</th>\n",
              "      <td>train_0</td>\n",
              "      <td>haze primary</td>\n",
              "    </tr>\n",
              "    <tr>\n",
              "      <th>1</th>\n",
              "      <td>train_1</td>\n",
              "      <td>agriculture clear primary water</td>\n",
              "    </tr>\n",
              "    <tr>\n",
              "      <th>2</th>\n",
              "      <td>train_2</td>\n",
              "      <td>clear primary</td>\n",
              "    </tr>\n",
              "    <tr>\n",
              "      <th>3</th>\n",
              "      <td>train_3</td>\n",
              "      <td>clear primary</td>\n",
              "    </tr>\n",
              "    <tr>\n",
              "      <th>4</th>\n",
              "      <td>train_4</td>\n",
              "      <td>agriculture clear habitation primary road</td>\n",
              "    </tr>\n",
              "  </tbody>\n",
              "</table>\n",
              "</div>"
            ],
            "text/plain": [
              "  image_name                                       tags\n",
              "0    train_0                               haze primary\n",
              "1    train_1            agriculture clear primary water\n",
              "2    train_2                              clear primary\n",
              "3    train_3                              clear primary\n",
              "4    train_4  agriculture clear habitation primary road"
            ]
          },
          "execution_count": 3,
          "metadata": {},
          "output_type": "execute_result"
        }
      ],
      "source": [
        "df = pd.read_csv('../input/train_v2.csv/train_v2.csv')\n",
        "df.head()"
      ]
    },
    {
      "cell_type": "markdown",
      "id": "c4b4b7ac",
      "metadata": {
        "_cell_guid": "285b6fb3-7fdf-6e3f-0071-ba039f165c4d",
        "papermill": {
          "duration": 0.007096,
          "end_time": "2022-09-20T00:46:15.130245",
          "exception": false,
          "start_time": "2022-09-20T00:46:15.123149",
          "status": "completed"
        },
        "tags": [],
        "id": "c4b4b7ac"
      },
      "source": [
        "So, we are given around 40.000 training images."
      ]
    },
    {
      "cell_type": "code",
      "execution_count": null,
      "id": "9b41b073",
      "metadata": {
        "_cell_guid": "c04b1b62-de04-b64e-e4ce-8910442f9534",
        "execution": {
          "iopub.execute_input": "2022-09-20T00:46:15.147966Z",
          "iopub.status.busy": "2022-09-20T00:46:15.147173Z",
          "iopub.status.idle": "2022-09-20T00:46:15.154633Z",
          "shell.execute_reply": "2022-09-20T00:46:15.153765Z"
        },
        "papermill": {
          "duration": 0.019085,
          "end_time": "2022-09-20T00:46:15.157141",
          "exception": false,
          "start_time": "2022-09-20T00:46:15.138056",
          "status": "completed"
        },
        "tags": [],
        "id": "9b41b073",
        "outputId": "f946f06d-e831-41b9-eb84-eb765f6329f2"
      },
      "outputs": [
        {
          "data": {
            "text/plain": [
              "(40479, 2)"
            ]
          },
          "execution_count": 4,
          "metadata": {},
          "output_type": "execute_result"
        }
      ],
      "source": [
        "df.shape"
      ]
    },
    {
      "cell_type": "markdown",
      "id": "6213d491",
      "metadata": {
        "_cell_guid": "266cf8e4-1366-7c6a-2ec1-518a506b4de2",
        "papermill": {
          "duration": 0.00721,
          "end_time": "2022-09-20T00:46:15.172316",
          "exception": false,
          "start_time": "2022-09-20T00:46:15.165106",
          "status": "completed"
        },
        "tags": [],
        "id": "6213d491"
      },
      "source": [
        "# Tag counts\n"
      ]
    },
    {
      "cell_type": "code",
      "execution_count": null,
      "id": "608b62ac",
      "metadata": {
        "_cell_guid": "c97b0681-7ff7-2030-6887-1718da687b96",
        "execution": {
          "iopub.execute_input": "2022-09-20T00:46:15.189474Z",
          "iopub.status.busy": "2022-09-20T00:46:15.189076Z",
          "iopub.status.idle": "2022-09-20T00:46:15.247403Z",
          "shell.execute_reply": "2022-09-20T00:46:15.245707Z"
        },
        "papermill": {
          "duration": 0.070572,
          "end_time": "2022-09-20T00:46:15.250601",
          "exception": false,
          "start_time": "2022-09-20T00:46:15.180029",
          "status": "completed"
        },
        "tags": [],
        "id": "608b62ac",
        "outputId": "634e83fd-c5a2-42a6-a8c7-be0396ada820"
      },
      "outputs": [
        {
          "name": "stdout",
          "output_type": "stream",
          "text": [
            "total of 116278 non-unique tags in all training images\n",
            "average number of labels per image 2.8725511993873365\n"
          ]
        }
      ],
      "source": [
        "all_tags = [item for sublist in list(df['tags'].apply(lambda row: row.split(\" \")).values) for item in sublist]\n",
        "print('total of {} non-unique tags in all training images'.format(len(all_tags)))\n",
        "print('average number of labels per image {}'.format(1.0*len(all_tags)/df.shape[0]))"
      ]
    },
    {
      "cell_type": "code",
      "execution_count": null,
      "id": "a5a447ec",
      "metadata": {
        "_cell_guid": "a2aa5ec9-2b77-bd44-b8b5-e63055828c4c",
        "execution": {
          "iopub.execute_input": "2022-09-20T00:46:15.269082Z",
          "iopub.status.busy": "2022-09-20T00:46:15.268672Z",
          "iopub.status.idle": "2022-09-20T00:46:15.313014Z",
          "shell.execute_reply": "2022-09-20T00:46:15.311702Z"
        },
        "papermill": {
          "duration": 0.05561,
          "end_time": "2022-09-20T00:46:15.315405",
          "exception": false,
          "start_time": "2022-09-20T00:46:15.259795",
          "status": "completed"
        },
        "tags": [],
        "id": "a5a447ec",
        "outputId": "b3e1056a-c300-470e-bd7c-6cfcc28ca811"
      },
      "outputs": [
        {
          "data": {
            "text/html": [
              "<div>\n",
              "<style scoped>\n",
              "    .dataframe tbody tr th:only-of-type {\n",
              "        vertical-align: middle;\n",
              "    }\n",
              "\n",
              "    .dataframe tbody tr th {\n",
              "        vertical-align: top;\n",
              "    }\n",
              "\n",
              "    .dataframe thead th {\n",
              "        text-align: right;\n",
              "    }\n",
              "</style>\n",
              "<table border=\"1\" class=\"dataframe\">\n",
              "  <thead>\n",
              "    <tr style=\"text-align: right;\">\n",
              "      <th></th>\n",
              "      <th>tag</th>\n",
              "      <th>0</th>\n",
              "    </tr>\n",
              "  </thead>\n",
              "  <tbody>\n",
              "    <tr>\n",
              "      <th>12</th>\n",
              "      <td>primary</td>\n",
              "      <td>37513</td>\n",
              "    </tr>\n",
              "    <tr>\n",
              "      <th>5</th>\n",
              "      <td>clear</td>\n",
              "      <td>28431</td>\n",
              "    </tr>\n",
              "    <tr>\n",
              "      <th>0</th>\n",
              "      <td>agriculture</td>\n",
              "      <td>12315</td>\n",
              "    </tr>\n",
              "    <tr>\n",
              "      <th>13</th>\n",
              "      <td>road</td>\n",
              "      <td>8071</td>\n",
              "    </tr>\n",
              "    <tr>\n",
              "      <th>16</th>\n",
              "      <td>water</td>\n",
              "      <td>7411</td>\n",
              "    </tr>\n",
              "  </tbody>\n",
              "</table>\n",
              "</div>"
            ],
            "text/plain": [
              "            tag      0\n",
              "12      primary  37513\n",
              "5         clear  28431\n",
              "0   agriculture  12315\n",
              "13         road   8071\n",
              "16        water   7411"
            ]
          },
          "execution_count": 6,
          "metadata": {},
          "output_type": "execute_result"
        }
      ],
      "source": [
        "tags_counted_and_sorted = pd.DataFrame({'tag': all_tags}).groupby('tag').size().reset_index().sort_values(0, ascending=False)\n",
        "tags_counted_and_sorted.head()"
      ]
    },
    {
      "cell_type": "code",
      "execution_count": null,
      "id": "9acc2245",
      "metadata": {
        "_cell_guid": "6837d127-bae3-79ff-01af-c5552d991218",
        "execution": {
          "iopub.execute_input": "2022-09-20T00:46:15.333311Z",
          "iopub.status.busy": "2022-09-20T00:46:15.332545Z",
          "iopub.status.idle": "2022-09-20T00:46:15.741133Z",
          "shell.execute_reply": "2022-09-20T00:46:15.739973Z"
        },
        "papermill": {
          "duration": 0.420461,
          "end_time": "2022-09-20T00:46:15.743875",
          "exception": false,
          "start_time": "2022-09-20T00:46:15.323414",
          "status": "completed"
        },
        "tags": [],
        "id": "9acc2245",
        "outputId": "d341de71-78c3-47ce-cd25-a3fd8612d313"
      },
      "outputs": [
        {
          "data": {
            "text/plain": [
              "<AxesSubplot:ylabel='tag'>"
            ]
          },
          "execution_count": 7,
          "metadata": {},
          "output_type": "execute_result"
        },
        {
          "data": {
            "image/png": "[encoded data removed]",
            "text/plain": [
              "<Figure size 864x576 with 1 Axes>"
            ]
          },
          "metadata": {
            "needs_background": "light"
          },
          "output_type": "display_data"
        }
      ],
      "source": [
        "tags_counted_and_sorted.plot.barh(x='tag', y=0, figsize=(12,8))"
      ]
    },
    {
      "cell_type": "markdown",
      "id": "81f2d138",
      "metadata": {
        "_cell_guid": "3f0d525a-be15-4a83-fff8-474fbf17adeb",
        "papermill": {
          "duration": 0.008277,
          "end_time": "2022-09-20T00:46:15.760532",
          "exception": false,
          "start_time": "2022-09-20T00:46:15.752255",
          "status": "completed"
        },
        "tags": [],
        "id": "81f2d138"
      },
      "source": [
        "# Looking at the actual images"
      ]
    },
    {
      "cell_type": "code",
      "execution_count": null,
      "id": "1b84a35e",
      "metadata": {
        "_cell_guid": "f63a49e7-9529-6761-e7d5-92d8f26f9823",
        "execution": {
          "iopub.execute_input": "2022-09-20T00:46:15.778887Z",
          "iopub.status.busy": "2022-09-20T00:46:15.778387Z",
          "iopub.status.idle": "2022-09-20T00:46:15.788211Z",
          "shell.execute_reply": "2022-09-20T00:46:15.787168Z"
        },
        "papermill": {
          "duration": 0.021834,
          "end_time": "2022-09-20T00:46:15.790704",
          "exception": false,
          "start_time": "2022-09-20T00:46:15.768870",
          "status": "completed"
        },
        "tags": [],
        "id": "1b84a35e",
        "outputId": "1b62c322-3117-4bf9-dc3c-3b1fec7a0f72"
      },
      "outputs": [
        {
          "data": {
            "text/plain": [
              "[]"
            ]
          },
          "execution_count": 8,
          "metadata": {},
          "output_type": "execute_result"
        }
      ],
      "source": [
        "from glob import glob\n",
        "image_paths = sorted(glob('../input/train-jpg/*.jpg'))[0:1000]\n",
        "image_names = list(map(lambda row: row.split(\"/\")[-1][:-4], image_paths))\n",
        "image_names[0:10]"
      ]
    },
    {
      "cell_type": "code",
      "execution_count": null,
      "id": "e68b3f48",
      "metadata": {
        "_cell_guid": "3d1917cf-0afe-c0b4-a589-d5b3378cc2f6",
        "execution": {
          "iopub.execute_input": "2022-09-20T00:46:15.810160Z",
          "iopub.status.busy": "2022-09-20T00:46:15.809771Z",
          "iopub.status.idle": "2022-09-20T00:46:15.814385Z",
          "shell.execute_reply": "2022-09-20T00:46:15.813334Z"
        },
        "papermill": {
          "duration": 0.017163,
          "end_time": "2022-09-20T00:46:15.816683",
          "exception": false,
          "start_time": "2022-09-20T00:46:15.799520",
          "status": "completed"
        },
        "tags": [],
        "id": "e68b3f48"
      },
      "outputs": [],
      "source": [
        "# plt.figure(figsize=(12,8))\n",
        "# for i in range(6):\n",
        "#     plt.subplot(2,3,i+1)\n",
        "#     plt.imshow(plt.imread(image_paths[i]))\n",
        "#     plt.title(str(df[df.image_name == image_names[i]].tags.values))"
      ]
    },
    {
      "cell_type": "markdown",
      "id": "07eaf4e6",
      "metadata": {
        "_cell_guid": "a9c258ca-da96-e657-d452-8bcfd7d7e94a",
        "papermill": {
          "duration": 0.007968,
          "end_time": "2022-09-20T00:46:15.833208",
          "exception": false,
          "start_time": "2022-09-20T00:46:15.825240",
          "status": "completed"
        },
        "tags": [],
        "id": "07eaf4e6"
      },
      "source": [
        "It seems, that all of the images are of the same size, which would make preprocessing them much easier."
      ]
    },
    {
      "cell_type": "code",
      "execution_count": null,
      "id": "7569b7a2",
      "metadata": {
        "_cell_guid": "ce8d3d1a-c777-c9a7-3aa8-fb95f8b34713",
        "execution": {
          "iopub.execute_input": "2022-09-20T00:46:15.852885Z",
          "iopub.status.busy": "2022-09-20T00:46:15.852495Z",
          "iopub.status.idle": "2022-09-20T00:46:15.857125Z",
          "shell.execute_reply": "2022-09-20T00:46:15.856210Z"
        },
        "papermill": {
          "duration": 0.017192,
          "end_time": "2022-09-20T00:46:15.859319",
          "exception": false,
          "start_time": "2022-09-20T00:46:15.842127",
          "status": "completed"
        },
        "tags": [],
        "id": "7569b7a2"
      },
      "outputs": [],
      "source": [
        "from sklearn.multiclass import OneVsRestClassifier\n",
        "from sklearn.linear_model import LogisticRegression\n",
        "from sklearn.model_selection import GridSearchCV, train_test_split\n",
        "from sklearn.preprocessing import MultiLabelBinarizer, MinMaxScaler\n",
        "from sklearn.metrics import fbeta_score, precision_score, make_scorer, average_precision_score\n",
        "import cv2\n",
        "import warnings\n",
        "import numpy as np\n",
        "from sklearn.pipeline import Pipeline\n",
        "from sklearn.feature_extraction.text import CountVectorizer\n",
        "from sklearn.svm import LinearSVC\n",
        "from sklearn.svm import SVC\n",
        "from sklearn.feature_extraction.text import TfidfTransformer\n",
        "\n",
        "\n",
        "n_samples = 200\n",
        "rescaled_dim = 20\n",
        "\n",
        "df['split_tags'] = df['tags'].map(lambda row: row.split(\" \"))\n",
        "lb = MultiLabelBinarizer()\n",
        "y = lb.fit_transform(df['split_tags'])\n",
        "y = y[:n_samples]\n",
        "# X = np.squeeze(np.array([cv2.resize(plt.imread('../input/train-jpg/{}.jpg'.format(name)), (rescaled_dim, rescaled_dim), cv2.INTER_LINEAR).reshape(1, -1) for name in df.head(n_samples)['image_name'].values]))\n",
        "X = MinMaxScaler().fit_transform(X)\n",
        "\n",
        "print(X.shape, y.shape, lb.classes_)\n",
        "\n",
        "X_train, X_test, y_train, y_test = train_test_split(X, y, test_size=0.33)\n"
      ]
    },
    {
      "cell_type": "code",
      "execution_count": null,
      "id": "7afcf686",
      "metadata": {
        "_cell_guid": "1664ced7-233d-0ab8-6fe0-00ae28c911a2",
        "execution": {
          "iopub.execute_input": "2022-09-20T00:46:15.878812Z",
          "iopub.status.busy": "2022-09-20T00:46:15.878200Z",
          "iopub.status.idle": "2022-09-20T00:46:22.540348Z",
          "shell.execute_reply": "2022-09-20T00:46:22.539072Z"
        },
        "papermill": {
          "duration": 6.67523,
          "end_time": "2022-09-20T00:46:22.543205",
          "exception": false,
          "start_time": "2022-09-20T00:46:15.867975",
          "status": "completed"
        },
        "tags": [],
        "id": "7afcf686"
      },
      "outputs": [],
      "source": [
        "\n",
        "from keras.models import Sequential\n",
        "from keras.layers import Dense\n",
        "import numpy\n",
        "# fix random seed for reproducibility\n",
        "numpy.random.seed(7)\n"
      ]
    },
    {
      "cell_type": "code",
      "execution_count": null,
      "id": "2caeb0a9",
      "metadata": {
        "_cell_guid": "4af198e6-8c5b-c77f-1c8a-b5865883ce8b",
        "execution": {
          "iopub.execute_input": "2022-09-20T00:46:22.562443Z",
          "iopub.status.busy": "2022-09-20T00:46:22.561700Z",
          "iopub.status.idle": "2022-09-20T00:46:22.692334Z",
          "shell.execute_reply": "2022-09-20T00:46:22.690904Z"
        },
        "papermill": {
          "duration": 0.143312,
          "end_time": "2022-09-20T00:46:22.695140",
          "exception": false,
          "start_time": "2022-09-20T00:46:22.551828",
          "status": "completed"
        },
        "tags": [],
        "id": "2caeb0a9",
        "outputId": "6633e54b-a192-4f09-ecb8-ca199e9d844c"
      },
      "outputs": [
        {
          "name": "stderr",
          "output_type": "stream",
          "text": [
            "2022-09-20 00:46:22.602702: I tensorflow/core/common_runtime/process_util.cc:146] Creating new thread pool with default inter op setting: 2. Tune using inter_op_parallelism_threads for best performance.\n"
          ]
        }
      ],
      "source": [
        "model = Sequential()\n",
        "model.add(Dense(12, input_dim=1600, activation='relu'))\n",
        "model.add(Dense(8, activation='relu'))\n",
        "model.add(Dense(17, activation='sigmoid'))\n"
      ]
    },
    {
      "cell_type": "code",
      "execution_count": null,
      "id": "5ded0076",
      "metadata": {
        "_cell_guid": "81e0c265-d178-5bdd-33a9-4fb356af77dd",
        "execution": {
          "iopub.execute_input": "2022-09-20T00:46:22.713987Z",
          "iopub.status.busy": "2022-09-20T00:46:22.713546Z",
          "iopub.status.idle": "2022-09-20T00:46:22.728221Z",
          "shell.execute_reply": "2022-09-20T00:46:22.727235Z"
        },
        "papermill": {
          "duration": 0.027076,
          "end_time": "2022-09-20T00:46:22.730834",
          "exception": false,
          "start_time": "2022-09-20T00:46:22.703758",
          "status": "completed"
        },
        "tags": [],
        "id": "5ded0076"
      },
      "outputs": [],
      "source": [
        "model.compile(loss='binary_crossentropy', optimizer='adam', metrics=['accuracy'])"
      ]
    },
    {
      "cell_type": "code",
      "execution_count": null,
      "id": "5147762c",
      "metadata": {
        "_cell_guid": "49681b78-4e52-214e-6150-b93726b4777e",
        "execution": {
          "iopub.execute_input": "2022-09-20T00:46:22.751729Z",
          "iopub.status.busy": "2022-09-20T00:46:22.750486Z",
          "iopub.status.idle": "2022-09-20T00:46:22.756190Z",
          "shell.execute_reply": "2022-09-20T00:46:22.755147Z"
        },
        "papermill": {
          "duration": 0.018486,
          "end_time": "2022-09-20T00:46:22.758594",
          "exception": false,
          "start_time": "2022-09-20T00:46:22.740108",
          "status": "completed"
        },
        "tags": [],
        "id": "5147762c"
      },
      "outputs": [],
      "source": [
        "\n",
        "model.fit(X_train, y_train, epochs=50, batch_size=5000)"
      ]
    },
    {
      "cell_type": "code",
      "execution_count": null,
      "id": "179b9e00",
      "metadata": {
        "_cell_guid": "b108aca8-6f66-fe0e-04bd-729dc5b8b92c",
        "execution": {
          "iopub.execute_input": "2022-09-20T00:46:22.778721Z",
          "iopub.status.busy": "2022-09-20T00:46:22.778301Z",
          "iopub.status.idle": "2022-09-20T00:46:22.782664Z",
          "shell.execute_reply": "2022-09-20T00:46:22.781509Z"
        },
        "papermill": {
          "duration": 0.017524,
          "end_time": "2022-09-20T00:46:22.785005",
          "exception": false,
          "start_time": "2022-09-20T00:46:22.767481",
          "status": "completed"
        },
        "tags": [],
        "id": "179b9e00"
      },
      "outputs": [],
      "source": [
        "scores = model.evaluate(X_test, y_test)\n",
        "print(\"\\n%s: %.2f%%\" % (model.metrics_names[1], scores[1]*100))"
      ]
    },
    {
      "cell_type": "code",
      "execution_count": null,
      "id": "cf5309f8",
      "metadata": {
        "_cell_guid": "b242b704-9981-a769-5335-37a6f79bff86",
        "execution": {
          "iopub.execute_input": "2022-09-20T00:46:22.804369Z",
          "iopub.status.busy": "2022-09-20T00:46:22.803598Z",
          "iopub.status.idle": "2022-09-20T00:46:22.807721Z",
          "shell.execute_reply": "2022-09-20T00:46:22.806836Z"
        },
        "papermill": {
          "duration": 0.01641,
          "end_time": "2022-09-20T00:46:22.809877",
          "exception": false,
          "start_time": "2022-09-20T00:46:22.793467",
          "status": "completed"
        },
        "tags": [],
        "id": "cf5309f8"
      },
      "outputs": [],
      "source": [
        "X_sub = np.squeeze(np.array([cv2.resize(plt.imread('../input/test-jpg-v2/{}.jpg'.format(name)), (rescaled_dim, rescaled_dim), cv2.INTER_LINEAR).reshape(1, -1) for name in sample['image_name'].values]))\n",
        "X_sub = MinMaxScaler().fit_transform(X_sub)\n",
        "X_sub.shape\n"
      ]
    },
    {
      "cell_type": "code",
      "execution_count": null,
      "id": "d0072d15",
      "metadata": {
        "_cell_guid": "b01ecec3-15af-8733-e30d-5d11e8656133",
        "execution": {
          "iopub.execute_input": "2022-09-20T00:46:22.829359Z",
          "iopub.status.busy": "2022-09-20T00:46:22.828281Z",
          "iopub.status.idle": "2022-09-20T00:46:22.833264Z",
          "shell.execute_reply": "2022-09-20T00:46:22.832066Z"
        },
        "papermill": {
          "duration": 0.017509,
          "end_time": "2022-09-20T00:46:22.835781",
          "exception": false,
          "start_time": "2022-09-20T00:46:22.818272",
          "status": "completed"
        },
        "tags": [],
        "id": "d0072d15"
      },
      "outputs": [],
      "source": [
        "y_sub = model.predict(X_sub)\n",
        "y_sub.shape\n"
      ]
    },
    {
      "cell_type": "code",
      "execution_count": null,
      "id": "3f13deb0",
      "metadata": {
        "_cell_guid": "a53c9395-97ff-6dc8-01b5-8a3d0414b48a",
        "execution": {
          "iopub.execute_input": "2022-09-20T00:46:22.854509Z",
          "iopub.status.busy": "2022-09-20T00:46:22.854096Z",
          "iopub.status.idle": "2022-09-20T00:46:22.859480Z",
          "shell.execute_reply": "2022-09-20T00:46:22.858144Z"
        },
        "papermill": {
          "duration": 0.017547,
          "end_time": "2022-09-20T00:46:22.861868",
          "exception": false,
          "start_time": "2022-09-20T00:46:22.844321",
          "status": "completed"
        },
        "tags": [],
        "id": "3f13deb0"
      },
      "outputs": [],
      "source": [
        "print(y_sub)"
      ]
    },
    {
      "cell_type": "code",
      "execution_count": null,
      "id": "7c4d48a4",
      "metadata": {
        "_cell_guid": "4f57c22a-ab9b-4448-53b6-c128f740ed11",
        "execution": {
          "iopub.execute_input": "2022-09-20T00:46:22.880693Z",
          "iopub.status.busy": "2022-09-20T00:46:22.880252Z",
          "iopub.status.idle": "2022-09-20T00:46:22.885042Z",
          "shell.execute_reply": "2022-09-20T00:46:22.883878Z"
        },
        "papermill": {
          "duration": 0.01706,
          "end_time": "2022-09-20T00:46:22.887267",
          "exception": false,
          "start_time": "2022-09-20T00:46:22.870207",
          "status": "completed"
        },
        "tags": [],
        "id": "7c4d48a4"
      },
      "outputs": [],
      "source": [
        "test_tags = []\n",
        "for index in range(y_sub.shape[0]):\n",
        "    test_tags.append(' '.join(list(lb.classes_[np.where(y_sub[index, :] == 1)[0]])))\n",
        "\n"
      ]
    },
    {
      "cell_type": "code",
      "execution_count": null,
      "id": "dd9f6f38",
      "metadata": {
        "_cell_guid": "cb4c5928-2a03-2eb4-d625-2f832c5b0cdf",
        "execution": {
          "iopub.execute_input": "2022-09-20T00:46:22.905811Z",
          "iopub.status.busy": "2022-09-20T00:46:22.905359Z",
          "iopub.status.idle": "2022-09-20T00:46:22.909826Z",
          "shell.execute_reply": "2022-09-20T00:46:22.908919Z"
        },
        "papermill": {
          "duration": 0.016379,
          "end_time": "2022-09-20T00:46:22.912093",
          "exception": false,
          "start_time": "2022-09-20T00:46:22.895714",
          "status": "completed"
        },
        "tags": [],
        "id": "dd9f6f38"
      },
      "outputs": [],
      "source": [
        "sample.head()"
      ]
    },
    {
      "cell_type": "code",
      "execution_count": null,
      "id": "ef6cc72f",
      "metadata": {
        "_cell_guid": "b1eda12e-096d-cde8-7309-259a35031624",
        "execution": {
          "iopub.execute_input": "2022-09-20T00:46:22.930878Z",
          "iopub.status.busy": "2022-09-20T00:46:22.930464Z",
          "iopub.status.idle": "2022-09-20T00:46:22.935310Z",
          "shell.execute_reply": "2022-09-20T00:46:22.934021Z"
        },
        "papermill": {
          "duration": 0.017045,
          "end_time": "2022-09-20T00:46:22.937609",
          "exception": false,
          "start_time": "2022-09-20T00:46:22.920564",
          "status": "completed"
        },
        "tags": [],
        "id": "ef6cc72f"
      },
      "outputs": [],
      "source": [
        "test_tags[0:20]"
      ]
    },
    {
      "cell_type": "code",
      "execution_count": null,
      "id": "ee260514",
      "metadata": {
        "_cell_guid": "ecd3225b-65be-01fe-4c9c-ec76bca387c3",
        "execution": {
          "iopub.execute_input": "2022-09-20T00:46:22.956388Z",
          "iopub.status.busy": "2022-09-20T00:46:22.955980Z",
          "iopub.status.idle": "2022-09-20T00:46:22.960404Z",
          "shell.execute_reply": "2022-09-20T00:46:22.959239Z"
        },
        "papermill": {
          "duration": 0.016491,
          "end_time": "2022-09-20T00:46:22.962568",
          "exception": false,
          "start_time": "2022-09-20T00:46:22.946077",
          "status": "completed"
        },
        "tags": [],
        "id": "ee260514"
      },
      "outputs": [],
      "source": [
        "sample['tags'] = test_tags\n",
        "sample.head()"
      ]
    },
    {
      "cell_type": "code",
      "execution_count": null,
      "id": "9c086e6d",
      "metadata": {
        "_cell_guid": "5d14d9ef-9106-e01e-03dc-2bd78584d307",
        "execution": {
          "iopub.execute_input": "2022-09-20T00:46:22.981330Z",
          "iopub.status.busy": "2022-09-20T00:46:22.980963Z",
          "iopub.status.idle": "2022-09-20T00:46:22.985027Z",
          "shell.execute_reply": "2022-09-20T00:46:22.983886Z"
        },
        "papermill": {
          "duration": 0.016124,
          "end_time": "2022-09-20T00:46:22.987206",
          "exception": false,
          "start_time": "2022-09-20T00:46:22.971082",
          "status": "completed"
        },
        "tags": [],
        "id": "9c086e6d"
      },
      "outputs": [],
      "source": [
        "image_paths = sorted(glob('../input/test-jpg-v2/*.jpg'))[0:1000]\n",
        "image_names = list(map(lambda row: row.split(\"/\")[-1][:-4], image_paths))\n",
        "image_names[0:10]"
      ]
    },
    {
      "cell_type": "code",
      "execution_count": null,
      "id": "5402efd8",
      "metadata": {
        "_cell_guid": "feb1f629-cc67-dee6-3216-7c797a12675d",
        "execution": {
          "iopub.execute_input": "2022-09-20T00:46:23.006276Z",
          "iopub.status.busy": "2022-09-20T00:46:23.005898Z",
          "iopub.status.idle": "2022-09-20T00:46:23.010699Z",
          "shell.execute_reply": "2022-09-20T00:46:23.009466Z"
        },
        "papermill": {
          "duration": 0.017505,
          "end_time": "2022-09-20T00:46:23.013129",
          "exception": false,
          "start_time": "2022-09-20T00:46:22.995624",
          "status": "completed"
        },
        "tags": [],
        "id": "5402efd8"
      },
      "outputs": [],
      "source": [
        "plt.figure(figsize=(12,8))\n",
        "for i in range(12):\n",
        "    plt.subplot(3,4,i+1)\n",
        "    plt.imshow(plt.imread(image_paths[i]))\n",
        "    plt.title(str(sample[sample.image_name == image_names[i]].tags.values))"
      ]
    }
  ],
  "metadata": {
    "kernelspec": {
      "display_name": "Python 3",
      "language": "python",
      "name": "python3"
    },
    "language_info": {
      "codemirror_mode": {
        "name": "ipython",
        "version": 3
      },
      "file_extension": ".py",
      "mimetype": "text/x-python",
      "name": "python",
      "nbconvert_exporter": "python",
      "pygments_lexer": "ipython3",
      "version": "3.7.12"
    },
    "papermill": {
      "default_parameters": {},
      "duration": 22.216285,
      "end_time": "2022-09-20T00:46:25.854770",
      "environment_variables": {},
      "exception": null,
      "input_path": "__notebook__.ipynb",
      "output_path": "__notebook__.ipynb",
      "parameters": {},
      "start_time": "2022-09-20T00:46:03.638485",
      "version": "2.3.4"
    },
    "colab": {
      "provenance": [],
      "include_colab_link": true
    }
  },
  "nbformat": 4,
  "nbformat_minor": 5
}