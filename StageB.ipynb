{
  "nbformat": 4,
  "nbformat_minor": 0,
  "metadata": {
    "colab": {
      "name": "StageB.ipynb",
      "provenance": [],
      "collapsed_sections": [],
      "authorship_tag": "ABX9TyOvyqluW1w49oSUik7jTAoJ",
      "include_colab_link": true
    },
    "kernelspec": {
      "name": "python3",
      "display_name": "Python 3"
    },
    "language_info": {
      "name": "python"
    }
  },
  "cells": [
    {
      "cell_type": "markdown",
      "metadata": {
        "id": "view-in-github",
        "colab_type": "text"
      },
      "source": [
        "<a href=\"https://colab.research.google.com/github/SonolaMoyo/HamoyeSummer2022/blob/main/StageB.ipynb\" target=\"_parent\"><img src=\"https://colab.research.google.com/assets/colab-badge.svg\" alt=\"Open In Colab\"/></a>"
      ]
    },
    {
      "cell_type": "code",
      "execution_count": 1,
      "metadata": {
        "id": "6iv-xUAqEIqQ"
      },
      "outputs": [],
      "source": [
        "import numpy as np\n",
        "import pandas as pd\n",
        "import seaborn as sns\n",
        "import sklearn"
      ]
    },
    {
      "cell_type": "code",
      "source": [
        "df = pd.read_excel('https://archive.ics.uci.edu/ml/machine-learning-databases/00242/ENB2012_data.xlsx')"
      ],
      "metadata": {
        "id": "rat17BJ5EfLC"
      },
      "execution_count": 2,
      "outputs": []
    },
    {
      "cell_type": "code",
      "source": [
        "#rename columns\n",
        "column_names = {'X1':'Relative_Compactness', 'X2': 'Surface_Area', 'X3': 'Wall_Area', 'X4': 'Roof_Area', 'X5': 'Overall_Height', 'X6': 'Orientation', 'X7': 'Glazing_Area', 'X8': 'Glazing_Area_Distribution', 'Y1': 'Heating_Load', 'Y2': 'Cooling_Load'}\n",
        "df = df.rename(columns=column_names)"
      ],
      "metadata": {
        "id": "yelM1-lmFZXc"
      },
      "execution_count": 3,
      "outputs": []
    },
    {
      "cell_type": "code",
      "source": [
        "from pandas.core.common import random_state\n",
        "simple_linear_reg = df[['Relative_Compactness', 'Cooling_Load']]"
      ],
      "metadata": {
        "id": "kLIoMlc8GeYW"
      },
      "execution_count": 4,
      "outputs": []
    },
    {
      "cell_type": "code",
      "source": [
        "#Plot an regressive plot\n",
        "sns.regplot(x=\"Relative_Compactness\", y='Cooling_Load', data=simple_linear_reg)"
      ],
      "metadata": {
        "colab": {
          "base_uri": "https://localhost:8080/",
          "height": 297
        },
        "id": "u_wj36_hJU31",
        "outputId": "ecfe7b21-dc43-4b45-8f8a-54381cc764ca"
      },
      "execution_count": 5,
      "outputs": [
        {
          "output_type": "execute_result",
          "data": {
            "text/plain": [
              "<matplotlib.axes._subplots.AxesSubplot at 0x7f006e48fa50>"
            ]
          },
          "metadata": {},
          "execution_count": 5
        },
        {
          "output_type": "display_data",
          "data": {
            "text/plain": [
              "<Figure size 432x288 with 1 Axes>"
            ],
            "image/png": "[encoded data removed]"
          },
          "metadata": {
            "needs_background": "light"
          }
        }
      ]
    },
    {
      "cell_type": "markdown",
      "source": [
        "***Train a Regression Model***"
      ],
      "metadata": {
        "id": "SBHxSP0OVioh"
      }
    },
    {
      "cell_type": "code",
      "source": [
        "#firstly we normalise our dataset to a common scale using the min max scalar\n",
        "from sklearn.preprocessing import MinMaxScaler\n",
        "scalar = MinMaxScaler()\n",
        "normalised_df = pd.DataFrame(scalar.fit_transform(df), columns=df.columns)\n",
        "featured_df = normalised_df.drop(columns=['Heating_Load', 'Cooling_Load'])\n",
        "heating_target = normalised_df['Heating_Load']\n"
      ],
      "metadata": {
        "id": "YFx0LbV1V2wV"
      },
      "execution_count": 6,
      "outputs": []
    },
    {
      "cell_type": "code",
      "source": [
        "#now we split our dataset into training and testing dataset\n",
        "from sklearn.model_selection import train_test_split\n",
        "x_train, x_test, y_train, y_test = train_test_split(featured_df, heating_target, test_size=0.3, random_state=1)"
      ],
      "metadata": {
        "id": "--gGx6xpZfCF"
      },
      "execution_count": 7,
      "outputs": []
    },
    {
      "cell_type": "code",
      "source": [
        "from sklearn.linear_model import LinearRegression\n",
        "#fit the model with the training dataset\n",
        "linear_model = LinearRegression()\n",
        "linear_model.fit(x_train, y_train)\n",
        "#obtain prediction\n",
        "predictions = linear_model.predict(x_test)"
      ],
      "metadata": {
        "id": "YDoephT0bHM9"
      },
      "execution_count": 8,
      "outputs": []
    },
    {
      "cell_type": "markdown",
      "source": [
        "***Mean Absolute Error***"
      ],
      "metadata": {
        "id": "o33-In6DdqS_"
      }
    },
    {
      "cell_type": "code",
      "source": [
        "from sklearn.metrics import mean_absolute_error\n",
        "mean_abs_err = mean_absolute_error(y_test, predictions)\n",
        "round(mean_abs_err, 3)"
      ],
      "metadata": {
        "colab": {
          "base_uri": "https://localhost:8080/"
        },
        "id": "xWiIuW75dxwP",
        "outputId": "1e3408f2-467c-4bbe-ae91-51b61a423724"
      },
      "execution_count": 9,
      "outputs": [
        {
          "output_type": "execute_result",
          "data": {
            "text/plain": [
              "0.063"
            ]
          },
          "metadata": {},
          "execution_count": 9
        }
      ]
    },
    {
      "cell_type": "markdown",
      "source": [
        "***Residual Sum of Squares (RSS)***\n",
        "   model performance"
      ],
      "metadata": {
        "id": "cp4WkEeLcYjT"
      }
    },
    {
      "cell_type": "code",
      "source": [
        "rss = np.sum(np.square(y_test - predictions))\n",
        "round(rss, 3)"
      ],
      "metadata": {
        "colab": {
          "base_uri": "https://localhost:8080/"
        },
        "id": "HoHa13JZbwHi",
        "outputId": "fe2c4284-f33c-4a4a-f547-d1122aef0801"
      },
      "execution_count": 10,
      "outputs": [
        {
          "output_type": "execute_result",
          "data": {
            "text/plain": [
              "1.823"
            ]
          },
          "metadata": {},
          "execution_count": 10
        }
      ]
    },
    {
      "cell_type": "markdown",
      "source": [
        "***Root Mean Square Error (RMSE)***"
      ],
      "metadata": {
        "id": "mNt5JzCYdqm6"
      }
    },
    {
      "cell_type": "code",
      "source": [
        "from sklearn.metrics import mean_squared_error\n",
        "rmse = np.sqrt(mean_squared_error(y_test, predictions))\n",
        "round(rmse, 3)\n"
      ],
      "metadata": {
        "colab": {
          "base_uri": "https://localhost:8080/"
        },
        "id": "ZLWJfcXcdwnj",
        "outputId": "ffdaca80-7fe4-4e11-aa74-69ecc8a61b8e"
      },
      "execution_count": 11,
      "outputs": [
        {
          "output_type": "execute_result",
          "data": {
            "text/plain": [
              "0.089"
            ]
          },
          "metadata": {},
          "execution_count": 11
        }
      ]
    },
    {
      "cell_type": "markdown",
      "source": [
        "***R-Squared*** (model performance)"
      ],
      "metadata": {
        "id": "S7cI6sSDiZ2Z"
      }
    },
    {
      "cell_type": "code",
      "source": [
        "from sklearn.metrics import r2_score\n",
        "r2 = r2_score(y_test, predictions)\n",
        "round(r2, 3)"
      ],
      "metadata": {
        "colab": {
          "base_uri": "https://localhost:8080/"
        },
        "id": "kl8Xlpq5in1f",
        "outputId": "27af8ba9-b2ac-4711-82f5-44c3b776e9e1"
      },
      "execution_count": 12,
      "outputs": [
        {
          "output_type": "execute_result",
          "data": {
            "text/plain": [
              "0.893"
            ]
          },
          "metadata": {},
          "execution_count": 12
        }
      ]
    },
    {
      "cell_type": "markdown",
      "source": [
        "***Penalization Methods***\n",
        "1. Rigde Regression\n",
        "2. Feature Selection: Lasso Regression"
      ],
      "metadata": {
        "id": "Ur5Zyb_t6qYy"
      }
    },
    {
      "cell_type": "code",
      "source": [
        "#Rigde Regression\n",
        "from sklearn.linear_model import Ridge\n",
        "rigde_reg = Ridge(alpha=0.5)\n",
        "rigde_reg.fit(x_train, y_train)\n",
        "print(rigde_reg.coef_)"
      ],
      "metadata": {
        "colab": {
          "base_uri": "https://localhost:8080/"
        },
        "id": "T4CQXrkrAdeU",
        "outputId": "97ace528-0ebe-4457-daa8-bae0da3c1217"
      },
      "execution_count": 13,
      "outputs": [
        {
          "output_type": "stream",
          "name": "stdout",
          "text": [
            "[-0.2834707  -0.06227514  0.10306088 -0.16319198  0.44246749  0.00336858\n",
            "  0.21244937  0.0290877 ]\n"
          ]
        }
      ]
    },
    {
      "cell_type": "code",
      "source": [
        "#Feature Selection: Lasso Regression\n",
        "from sklearn.linear_model import Lasso\n",
        "lasso_reg = Lasso(alpha=0.001)\n",
        "lasso_reg.fit(x_train, y_train)"
      ],
      "metadata": {
        "colab": {
          "base_uri": "https://localhost:8080/"
        },
        "id": "L5lg-mhUChCr",
        "outputId": "b1079945-dd5c-4357-c5ab-86965368a715"
      },
      "execution_count": 14,
      "outputs": [
        {
          "output_type": "execute_result",
          "data": {
            "text/plain": [
              "Lasso(alpha=0.001)"
            ]
          },
          "metadata": {},
          "execution_count": 14
        }
      ]
    },
    {
      "cell_type": "code",
      "source": [
        "#comparing the effects of regularisation \n",
        "def get_weights_df(model, feat, col_name):\n",
        "  #this function returns the weight of every feature\n",
        "  weights = pd.Series(model.coef_, feat.columns).sort_values()\n",
        "  weights_df = pd.DataFrame(weights).reset_index()\n",
        "  weights_df.columns = ['Features', col_name]\n",
        "  weights_df[col_name].round(3)\n",
        "  return weights_df"
      ],
      "metadata": {
        "id": "3UCiA29MDnR9"
      },
      "execution_count": 15,
      "outputs": []
    },
    {
      "cell_type": "code",
      "source": [
        "linear_model_weight = get_weights_df(linear_model, x_train, \"Linear Model\")\n",
        "rigde_weight_df = get_weights_df(rigde_reg, x_train, \"Rigde Weight\")\n",
        "lasso_weight_df = get_weights_df(lasso_reg, x_train, \"Lasso Weight\")"
      ],
      "metadata": {
        "id": "oP2U1m-4Jyxc"
      },
      "execution_count": 16,
      "outputs": []
    },
    {
      "cell_type": "code",
      "source": [
        "final_weights = pd.merge(linear_model_weight, rigde_weight_df, on=\"Features\")\n",
        "final_weights_df = pd.merge(final_weights, lasso_weight_df, on=\"Features\")"
      ],
      "metadata": {
        "id": "ljvwbPh8LHyj"
      },
      "execution_count": 17,
      "outputs": []
    },
    {
      "cell_type": "code",
      "source": [
        "print(final_weights_df)"
      ],
      "metadata": {
        "colab": {
          "base_uri": "https://localhost:8080/"
        },
        "id": "9hPRAa3-LlfU",
        "outputId": "5ee1e76e-3583-4359-804e-46eb435b3c9a"
      },
      "execution_count": 18,
      "outputs": [
        {
          "output_type": "stream",
          "name": "stdout",
          "text": [
            "                    Features  Linear Model  Rigde Weight  Lasso Weight\n",
            "0               Surface_Area -6.387091e+12     -0.062275      0.000000\n",
            "1       Relative_Compactness -6.064125e-01     -0.283471     -0.027719\n",
            "2                Orientation -2.822876e-03      0.003369      0.000000\n",
            "3  Glazing_Area_Distribution  1.913548e-02      0.029088      0.021431\n",
            "4               Glazing_Area  2.295933e-01      0.212449      0.206132\n",
            "5             Overall_Height  3.852539e-01      0.442467      0.463482\n",
            "6                  Wall_Area  3.725803e+12      0.103061      0.200087\n",
            "7                  Roof_Area  4.790318e+12     -0.163192     -0.000000\n"
          ]
        }
      ]
    }
  ]
}